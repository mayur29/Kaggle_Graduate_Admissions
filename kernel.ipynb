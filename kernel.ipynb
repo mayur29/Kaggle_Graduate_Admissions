{
  "cells": [
    {
      "metadata": {
        "_uuid": "8f2839f25d086af736a60e9eeb907d3b93b6e0e5",
        "_cell_guid": "b1076dfc-b9ad-4769-8c92-a6c4dae69d19",
        "trusted": true
      },
      "cell_type": "code",
      "source": "# This Python 3 environment comes with many helpful analytics libraries installed\n# It is defined by the kaggle/python docker image: https://github.com/kaggle/docker-python\n# For example, here's several helpful packages to load in \n\nimport numpy as np # linear algebra\nimport pandas as pd # data processing, CSV file I/O (e.g. pd.read_csv)\n\n# Input data files are available in the \"../input/\" directory.\n# For example, running this (by clicking run or pressing Shift+Enter) will list the files in the input directory\n\nimport os\nprint(os.listdir(\"../input\"))\n\nimport matplotlib.pyplot as plt\nimport seaborn as sns\nimport warnings\nwarnings.filterwarnings(\"ignore\")\n\n# Any results you write to the current directory are saved as output.",
      "execution_count": null,
      "outputs": []
    },
    {
      "metadata": {
        "_cell_guid": "79c7e3d0-c299-4dcb-8224-4455121ee9b0",
        "_uuid": "d629ff2d2480ee46fbb7e2d37f6b5fab8052498a",
        "trusted": true
      },
      "cell_type": "code",
      "source": "df = pd.read_csv('../input/Admission_Predict_Ver1.1.csv')",
      "execution_count": null,
      "outputs": []
    },
    {
      "metadata": {
        "trusted": true,
        "_uuid": "a38b5eb8821f85cf553200b8a7e3f5aab3328fde"
      },
      "cell_type": "code",
      "source": "df.info()",
      "execution_count": null,
      "outputs": []
    },
    {
      "metadata": {
        "trusted": true,
        "_uuid": "d287a101cebc0babc012ab7229c9d889d457ca27"
      },
      "cell_type": "code",
      "source": "df.columns",
      "execution_count": null,
      "outputs": []
    },
    {
      "metadata": {
        "trusted": true,
        "_uuid": "af2a0e5dcccea920a19fe7f2dd3c46e31176b936"
      },
      "cell_type": "code",
      "source": "# Check any number of columns with NaN\nprint(df.isnull().any().sum(), ' / ', len(df.columns))\n# Check any number of data points with NaN\nprint(df.isnull().any(axis=1).sum(), ' / ', len(df))",
      "execution_count": null,
      "outputs": []
    },
    {
      "metadata": {
        "trusted": true,
        "_uuid": "0f2105815d50d477892f3b60be01b010ac7bf3e3"
      },
      "cell_type": "code",
      "source": "df.rename(columns= {'Chance of Admit ':'Chance of Admit', 'LOR ' :'LOR'},inplace=True)",
      "execution_count": null,
      "outputs": []
    },
    {
      "metadata": {
        "trusted": true,
        "_uuid": "5cff919c9a7922e369a0080812bdef3dd2ef74dc"
      },
      "cell_type": "code",
      "source": "df.drop(df.columns[0] , axis = 1 , inplace= True)",
      "execution_count": null,
      "outputs": []
    },
    {
      "metadata": {
        "trusted": true,
        "_uuid": "c95564944a00dcb9dc483f2cf7f9aa72a94ae5b7"
      },
      "cell_type": "code",
      "source": "df.head()",
      "execution_count": null,
      "outputs": []
    },
    {
      "metadata": {
        "trusted": true,
        "_uuid": "76db567830ec250922ed827aa1f1590816c4a001"
      },
      "cell_type": "code",
      "source": "f, ax = plt.subplots(2,2,figsize=(8,4))\nvis1 = sns.distplot(df['GRE Score'],bins=10, ax= ax[0][0]) ;\nvis2 = sns.distplot(df['TOEFL Score'],bins=10, ax=ax[0][1]) ;\nvis3 = sns.distplot(df['SOP'],bins=10, ax=ax[1][0]) ;\nvis4 = sns.distplot(df[\"University Rating\"],bins=10, ax=ax[1][1]) ;",
      "execution_count": null,
      "outputs": []
    },
    {
      "metadata": {
        "trusted": true,
        "_uuid": "ec2dc7b11ba5c17b7c4614a8d142190385505552"
      },
      "cell_type": "code",
      "source": "fig = plt.figure(figsize=(50,50))\nfor i in range(1, 7):\n    ax = fig.add_subplot(3, 3, i)\n    sns.scatterplot(x=df['Chance of Admit'], y= df.iloc[:,i], hue=df.Research) ;    \n    plt.xlabel('Chance of Admit')\n    plt.ylabel(df.columns[i])",
      "execution_count": null,
      "outputs": []
    },
    {
      "metadata": {
        "trusted": true,
        "_uuid": "683feb08a4e41ddca392e9055b75e3b5202a1647"
      },
      "cell_type": "code",
      "source": "fig,ax = plt.subplots(figsize=(8, 8))\nsns.heatmap(df.corr() , annot= True ) ;",
      "execution_count": null,
      "outputs": []
    },
    {
      "metadata": {
        "trusted": true,
        "_uuid": "b64901931b83f96a8a946bfc1174396faf2b594a"
      },
      "cell_type": "code",
      "source": "df.Research.value_counts()",
      "execution_count": null,
      "outputs": []
    },
    {
      "metadata": {
        "trusted": true,
        "_uuid": "d63aec2ddfc18634bad4a2b1693d5f36234a04ce"
      },
      "cell_type": "code",
      "source": "plt.scatter(data = df , x= 'GRE Score' , y = 'CGPA') ;",
      "execution_count": null,
      "outputs": []
    },
    {
      "metadata": {
        "trusted": true,
        "_uuid": "7580e92b496662c1a559a26c5ffbf5474ad10c47"
      },
      "cell_type": "code",
      "source": "sns.lmplot(data=df , hue='Research' , x= 'GRE Score' , y = 'CGPA') ;",
      "execution_count": null,
      "outputs": []
    },
    {
      "metadata": {
        "trusted": true,
        "_uuid": "d370eba9e0693b7df4829d375545505e7825fddf"
      },
      "cell_type": "code",
      "source": "plt.scatter(data = df , x= 'GRE Score' , y = 'University Rating') ;",
      "execution_count": null,
      "outputs": []
    },
    {
      "metadata": {
        "trusted": true,
        "_uuid": "8c6e51f849b521bc99a9085d8042db13c644c9bf"
      },
      "cell_type": "code",
      "source": "df[df['CGPA'] > 0.80].plot(kind = 'scatter' , x = 'GRE Score' , y ='Chance of Admit') ;",
      "execution_count": null,
      "outputs": []
    },
    {
      "metadata": {
        "trusted": true,
        "_uuid": "8ff6a15790cb4d2561fdc224891374a2a157d96e"
      },
      "cell_type": "code",
      "source": "df[df['Chance of Admit'] > 0.80].plot(kind = 'scatter' , x = 'GRE Score' , y ='University Rating') ;",
      "execution_count": null,
      "outputs": []
    },
    {
      "metadata": {
        "trusted": true,
        "_uuid": "d71f512cdfc25f6e6000acc231739f7bfa1abd5e"
      },
      "cell_type": "code",
      "source": "from numpy import percentile\n\nfor col in df.columns :\n    q25 = percentile(df[col] ,25)\n    q75 = percentile(df[col] , 75)\n    IQR = q75-q25\n    cutoff = IQR*1.5\n    upper_cutoff = q75 + cutoff\n    lowe_cutoff = q25 - cutoff\n    outliers = [ x  for x in df[col] if x < lowe_cutoff or x > upper_cutoff]\n    print('Identified outliers: %d' % len(outliers))\n    outliers_removed = [ x  for x in df[col] if x >= lowe_cutoff and x <= upper_cutoff]\n    print('Non-outlier observations: %d' % len(outliers_removed))\n    df_out = df.loc[(df[col] > lowe_cutoff) & (df[col] < upper_cutoff)]",
      "execution_count": null,
      "outputs": []
    },
    {
      "metadata": {
        "trusted": true,
        "_uuid": "94bcc492d9bc3a23fb21ec814bf429e5e65517a1"
      },
      "cell_type": "code",
      "source": "from sklearn.model_selection import train_test_split\n\ny = df['Chance of Admit']\nx = df.drop('Chance of Admit',axis =1)\nx_train, x_test,y_train, y_test = train_test_split(x,y,test_size = 0.20,random_state = 42)\n",
      "execution_count": null,
      "outputs": []
    },
    {
      "metadata": {
        "trusted": true,
        "_uuid": "2bd2cbfbb0b1898adb2092c72f39dbb1579a3413"
      },
      "cell_type": "code",
      "source": "from sklearn.linear_model import LinearRegression\nfrom sklearn.metrics import mean_squared_error , r2_score\nlr = LinearRegression()\nlr.fit(x_train,y_train)\ny_predict = lr.predict(x_test)\nR2score = r2_score( y_test , y_predict )*100\nprint('The R2score for Linear Regression is ' , R2score)",
      "execution_count": null,
      "outputs": []
    },
    {
      "metadata": {
        "trusted": true,
        "_uuid": "295cba70cfc8be0470c156eaa90be16d743b109b"
      },
      "cell_type": "code",
      "source": "# Import the model we are using\nfrom sklearn.ensemble import RandomForestRegressor\n# Instantiate model with 1000 decision trees\nrf = RandomForestRegressor(n_estimators = 1000, random_state = 42)\n# Train the model on training data\nrf.fit(x_train, y_train);\ny_predict = rf.predict(x_test)\nprint('The R2score for Random Forest Regressor is ' , r2_score( y_test , y_predict ))\n\n#from sklearn.model_selection import train_test_split , cross_val_score\n\n#scores =cross_val_score(rf,x_data,y_data,cv=2,scoring='r2')",
      "execution_count": null,
      "outputs": []
    },
    {
      "metadata": {
        "trusted": true,
        "_uuid": "6b74b691f1a4160ef88144180098819b530e6580"
      },
      "cell_type": "code",
      "source": "featureImportance = pd.Series(rf.feature_importances_ , index = x_train.columns).sort_values(ascending = True)\nsns.barplot(featureImportance,y=featureImportance.index);\nplt.xlabel('Feature Importance Score')\nplt.ylabel('Features')\nplt.title(\"Visualizing Important Features\")",
      "execution_count": null,
      "outputs": []
    },
    {
      "metadata": {
        "trusted": true,
        "_uuid": "b80bbe8ef7e47a8fb4fe4713ba46907a078e1784"
      },
      "cell_type": "code",
      "source": "df_x_train = x_train[ ['CGPA', 'GRE Score' ,'TOEFL Score']]\ndf_x_test = x_test[ ['CGPA', 'GRE Score', 'TOEFL Score' ]]\nrf_improved = RandomForestRegressor(n_estimators = 1000, random_state = 42)\n# Train the model on training data\nrf_improved.fit(df_x_train, y_train);\ny_predict = rf_improved.predict(df_x_test)\n\nR2score = r2_score( y_test , y_predict )\nprint('The R2score for Random Forest Regressor is ' , (R2score*100))\n",
      "execution_count": null,
      "outputs": []
    },
    {
      "metadata": {
        "trusted": true,
        "_uuid": "303c309424729d0766b9a0caa48d9eac24b1ddc1"
      },
      "cell_type": "code",
      "source": "# Import the model we are using\nfrom sklearn.tree import DecisionTreeRegressor\ndt = DecisionTreeRegressor(random_state = 42)\n# Train the model on training data\ndt.fit(x_train, y_train);\ny_predict = dt.predict(x_test)\n\nR2score = r2_score( y_test , y_predict )\nprint('The R2score for Decision tree Regressor is ' , (R2score *100))",
      "execution_count": null,
      "outputs": []
    },
    {
      "metadata": {
        "trusted": true,
        "_uuid": "8fb941ce51f9eb31f08b5ea8f2bfe3d85e8acd6c"
      },
      "cell_type": "code",
      "source": "from sklearn.svm import SVR\nsvr_rbf = SVR(kernel='rbf', C=1e3, gamma=0.1)\n\ny_rbf = svr_rbf.fit(x_train, y_train).predict(x_test)\n\nR2score_rbf = r2_score( y_test , y_rbf )\nprint('The R2score for RBF is ' , R2score_rbf )",
      "execution_count": null,
      "outputs": []
    },
    {
      "metadata": {
        "trusted": true,
        "_uuid": "9429e68b95c909d9243c29d9379beebd6044240b"
      },
      "cell_type": "code",
      "source": "import xgboost\nxgb = xgboost.XGBRegressor(n_estimators=100, learning_rate=0.08, gamma=0, subsample=0.75,\n                           colsample_bytree=1, max_depth=7)\nxgb_pred = xgb.fit(x_train,y_train).predict(x_test)\nprint('The R2score for xgboost is ' , (r2_score( y_test , xgb_pred)*100))",
      "execution_count": null,
      "outputs": []
    }
  ],
  "metadata": {
    "kernelspec": {
      "display_name": "Python 3",
      "language": "python",
      "name": "python3"
    },
    "language_info": {
      "name": "python",
      "version": "3.6.6",
      "mimetype": "text/x-python",
      "codemirror_mode": {
        "name": "ipython",
        "version": 3
      },
      "pygments_lexer": "ipython3",
      "nbconvert_exporter": "python",
      "file_extension": ".py"
    }
  },
  "nbformat": 4,
  "nbformat_minor": 1
}